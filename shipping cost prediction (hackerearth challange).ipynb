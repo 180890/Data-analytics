{
 "cells": [
  {
   "cell_type": "code",
   "execution_count": 1,
   "id": "enormous-trash",
   "metadata": {},
   "outputs": [],
   "source": [
    "import pandas as pd\n",
    "import numpy as np\n",
    "import matplotlib.pyplot as plt\n",
    "import seaborn as sns\n",
    "%matplotlib inline"
   ]
  },
  {
   "cell_type": "code",
   "execution_count": 2,
   "id": "external-pulse",
   "metadata": {},
   "outputs": [
    {
     "data": {
      "text/plain": [
       "(6500, 20)"
      ]
     },
     "execution_count": 2,
     "metadata": {},
     "output_type": "execute_result"
    }
   ],
   "source": [
    "df=pd.read_csv('train.csv')\n",
    "df.shape "
   ]
  },
  {
   "cell_type": "code",
   "execution_count": 3,
   "id": "extensive-trustee",
   "metadata": {},
   "outputs": [
    {
     "data": {
      "text/html": [
       "<div>\n",
       "<style scoped>\n",
       "    .dataframe tbody tr th:only-of-type {\n",
       "        vertical-align: middle;\n",
       "    }\n",
       "\n",
       "    .dataframe tbody tr th {\n",
       "        vertical-align: top;\n",
       "    }\n",
       "\n",
       "    .dataframe thead th {\n",
       "        text-align: right;\n",
       "    }\n",
       "</style>\n",
       "<table border=\"1\" class=\"dataframe\">\n",
       "  <thead>\n",
       "    <tr style=\"text-align: right;\">\n",
       "      <th></th>\n",
       "      <th>Customer Id</th>\n",
       "      <th>Artist Name</th>\n",
       "      <th>Artist Reputation</th>\n",
       "      <th>Height</th>\n",
       "      <th>Width</th>\n",
       "      <th>Weight</th>\n",
       "      <th>Material</th>\n",
       "      <th>Price Of Sculpture</th>\n",
       "      <th>Base Shipping Price</th>\n",
       "      <th>International</th>\n",
       "      <th>Express Shipment</th>\n",
       "      <th>Installation Included</th>\n",
       "      <th>Transport</th>\n",
       "      <th>Fragile</th>\n",
       "      <th>Customer Information</th>\n",
       "      <th>Remote Location</th>\n",
       "      <th>Scheduled Date</th>\n",
       "      <th>Delivery Date</th>\n",
       "      <th>Customer Location</th>\n",
       "      <th>Cost</th>\n",
       "    </tr>\n",
       "  </thead>\n",
       "  <tbody>\n",
       "    <tr>\n",
       "      <th>0</th>\n",
       "      <td>fffe3900350033003300</td>\n",
       "      <td>Billy Jenkins</td>\n",
       "      <td>0.26</td>\n",
       "      <td>17.0</td>\n",
       "      <td>6.0</td>\n",
       "      <td>4128.0</td>\n",
       "      <td>Brass</td>\n",
       "      <td>13.91</td>\n",
       "      <td>16.27</td>\n",
       "      <td>Yes</td>\n",
       "      <td>Yes</td>\n",
       "      <td>No</td>\n",
       "      <td>Airways</td>\n",
       "      <td>No</td>\n",
       "      <td>Working Class</td>\n",
       "      <td>No</td>\n",
       "      <td>06/07/15</td>\n",
       "      <td>06/03/15</td>\n",
       "      <td>New Michelle, OH 50777</td>\n",
       "      <td>-283.29</td>\n",
       "    </tr>\n",
       "    <tr>\n",
       "      <th>1</th>\n",
       "      <td>fffe3800330031003900</td>\n",
       "      <td>Jean Bryant</td>\n",
       "      <td>0.28</td>\n",
       "      <td>3.0</td>\n",
       "      <td>3.0</td>\n",
       "      <td>61.0</td>\n",
       "      <td>Brass</td>\n",
       "      <td>6.83</td>\n",
       "      <td>15.00</td>\n",
       "      <td>No</td>\n",
       "      <td>No</td>\n",
       "      <td>No</td>\n",
       "      <td>Roadways</td>\n",
       "      <td>No</td>\n",
       "      <td>Working Class</td>\n",
       "      <td>No</td>\n",
       "      <td>03/06/17</td>\n",
       "      <td>03/05/17</td>\n",
       "      <td>New Michaelport, WY 12072</td>\n",
       "      <td>-159.96</td>\n",
       "    </tr>\n",
       "    <tr>\n",
       "      <th>2</th>\n",
       "      <td>fffe3600370035003100</td>\n",
       "      <td>Laura Miller</td>\n",
       "      <td>0.07</td>\n",
       "      <td>8.0</td>\n",
       "      <td>5.0</td>\n",
       "      <td>237.0</td>\n",
       "      <td>Clay</td>\n",
       "      <td>4.96</td>\n",
       "      <td>21.18</td>\n",
       "      <td>No</td>\n",
       "      <td>No</td>\n",
       "      <td>No</td>\n",
       "      <td>Roadways</td>\n",
       "      <td>Yes</td>\n",
       "      <td>Working Class</td>\n",
       "      <td>Yes</td>\n",
       "      <td>03/09/15</td>\n",
       "      <td>03/08/15</td>\n",
       "      <td>Bowmanshire, WA 19241</td>\n",
       "      <td>-154.29</td>\n",
       "    </tr>\n",
       "    <tr>\n",
       "      <th>3</th>\n",
       "      <td>fffe350031003300</td>\n",
       "      <td>Robert Chaires</td>\n",
       "      <td>0.12</td>\n",
       "      <td>9.0</td>\n",
       "      <td>NaN</td>\n",
       "      <td>NaN</td>\n",
       "      <td>Aluminium</td>\n",
       "      <td>5.81</td>\n",
       "      <td>16.31</td>\n",
       "      <td>No</td>\n",
       "      <td>No</td>\n",
       "      <td>No</td>\n",
       "      <td>NaN</td>\n",
       "      <td>No</td>\n",
       "      <td>Wealthy</td>\n",
       "      <td>Yes</td>\n",
       "      <td>05/24/15</td>\n",
       "      <td>05/20/15</td>\n",
       "      <td>East Robyn, KY 86375</td>\n",
       "      <td>-161.16</td>\n",
       "    </tr>\n",
       "    <tr>\n",
       "      <th>4</th>\n",
       "      <td>fffe3900320038003400</td>\n",
       "      <td>Rosalyn Krol</td>\n",
       "      <td>0.15</td>\n",
       "      <td>17.0</td>\n",
       "      <td>6.0</td>\n",
       "      <td>324.0</td>\n",
       "      <td>Aluminium</td>\n",
       "      <td>3.18</td>\n",
       "      <td>11.94</td>\n",
       "      <td>Yes</td>\n",
       "      <td>Yes</td>\n",
       "      <td>Yes</td>\n",
       "      <td>Airways</td>\n",
       "      <td>No</td>\n",
       "      <td>Working Class</td>\n",
       "      <td>No</td>\n",
       "      <td>12/18/16</td>\n",
       "      <td>12/14/16</td>\n",
       "      <td>Aprilside, PA 52793</td>\n",
       "      <td>-159.23</td>\n",
       "    </tr>\n",
       "  </tbody>\n",
       "</table>\n",
       "</div>"
      ],
      "text/plain": [
       "            Customer Id     Artist Name  Artist Reputation  Height  Width  \\\n",
       "0  fffe3900350033003300   Billy Jenkins               0.26    17.0    6.0   \n",
       "1  fffe3800330031003900     Jean Bryant               0.28     3.0    3.0   \n",
       "2  fffe3600370035003100    Laura Miller               0.07     8.0    5.0   \n",
       "3      fffe350031003300  Robert Chaires               0.12     9.0    NaN   \n",
       "4  fffe3900320038003400    Rosalyn Krol               0.15    17.0    6.0   \n",
       "\n",
       "   Weight   Material  Price Of Sculpture  Base Shipping Price International  \\\n",
       "0  4128.0      Brass               13.91                16.27           Yes   \n",
       "1    61.0      Brass                6.83                15.00            No   \n",
       "2   237.0       Clay                4.96                21.18            No   \n",
       "3     NaN  Aluminium                5.81                16.31            No   \n",
       "4   324.0  Aluminium                3.18                11.94           Yes   \n",
       "\n",
       "  Express Shipment Installation Included Transport Fragile  \\\n",
       "0              Yes                    No   Airways      No   \n",
       "1               No                    No  Roadways      No   \n",
       "2               No                    No  Roadways     Yes   \n",
       "3               No                    No       NaN      No   \n",
       "4              Yes                   Yes   Airways      No   \n",
       "\n",
       "  Customer Information Remote Location Scheduled Date Delivery Date  \\\n",
       "0        Working Class              No       06/07/15      06/03/15   \n",
       "1        Working Class              No       03/06/17      03/05/17   \n",
       "2        Working Class             Yes       03/09/15      03/08/15   \n",
       "3              Wealthy             Yes       05/24/15      05/20/15   \n",
       "4        Working Class              No       12/18/16      12/14/16   \n",
       "\n",
       "           Customer Location    Cost  \n",
       "0     New Michelle, OH 50777 -283.29  \n",
       "1  New Michaelport, WY 12072 -159.96  \n",
       "2      Bowmanshire, WA 19241 -154.29  \n",
       "3       East Robyn, KY 86375 -161.16  \n",
       "4        Aprilside, PA 52793 -159.23  "
      ]
     },
     "execution_count": 3,
     "metadata": {},
     "output_type": "execute_result"
    }
   ],
   "source": [
    "df.head()"
   ]
  },
  {
   "cell_type": "code",
   "execution_count": 4,
   "id": "local-halifax",
   "metadata": {},
   "outputs": [
    {
     "data": {
      "text/html": [
       "<div>\n",
       "<style scoped>\n",
       "    .dataframe tbody tr th:only-of-type {\n",
       "        vertical-align: middle;\n",
       "    }\n",
       "\n",
       "    .dataframe tbody tr th {\n",
       "        vertical-align: top;\n",
       "    }\n",
       "\n",
       "    .dataframe thead th {\n",
       "        text-align: right;\n",
       "    }\n",
       "</style>\n",
       "<table border=\"1\" class=\"dataframe\">\n",
       "  <thead>\n",
       "    <tr style=\"text-align: right;\">\n",
       "      <th></th>\n",
       "      <th>Artist Reputation</th>\n",
       "      <th>Height</th>\n",
       "      <th>Width</th>\n",
       "      <th>Weight</th>\n",
       "      <th>Price Of Sculpture</th>\n",
       "      <th>Base Shipping Price</th>\n",
       "      <th>Cost</th>\n",
       "    </tr>\n",
       "  </thead>\n",
       "  <tbody>\n",
       "    <tr>\n",
       "      <th>count</th>\n",
       "      <td>5750.000000</td>\n",
       "      <td>6125.000000</td>\n",
       "      <td>5916.000000</td>\n",
       "      <td>5.913000e+03</td>\n",
       "      <td>6500.00000</td>\n",
       "      <td>6500.000000</td>\n",
       "      <td>6.500000e+03</td>\n",
       "    </tr>\n",
       "    <tr>\n",
       "      <th>mean</th>\n",
       "      <td>0.461850</td>\n",
       "      <td>21.766204</td>\n",
       "      <td>9.617647</td>\n",
       "      <td>4.006948e+05</td>\n",
       "      <td>1192.42009</td>\n",
       "      <td>37.407174</td>\n",
       "      <td>1.713920e+04</td>\n",
       "    </tr>\n",
       "    <tr>\n",
       "      <th>std</th>\n",
       "      <td>0.265781</td>\n",
       "      <td>11.968192</td>\n",
       "      <td>5.417000</td>\n",
       "      <td>2.678081e+06</td>\n",
       "      <td>8819.61675</td>\n",
       "      <td>26.873519</td>\n",
       "      <td>2.406579e+05</td>\n",
       "    </tr>\n",
       "    <tr>\n",
       "      <th>min</th>\n",
       "      <td>0.000000</td>\n",
       "      <td>3.000000</td>\n",
       "      <td>2.000000</td>\n",
       "      <td>3.000000e+00</td>\n",
       "      <td>3.00000</td>\n",
       "      <td>10.000000</td>\n",
       "      <td>-8.801727e+05</td>\n",
       "    </tr>\n",
       "    <tr>\n",
       "      <th>25%</th>\n",
       "      <td>0.240000</td>\n",
       "      <td>12.000000</td>\n",
       "      <td>6.000000</td>\n",
       "      <td>5.030000e+02</td>\n",
       "      <td>5.23000</td>\n",
       "      <td>16.700000</td>\n",
       "      <td>1.884400e+02</td>\n",
       "    </tr>\n",
       "    <tr>\n",
       "      <th>50%</th>\n",
       "      <td>0.450000</td>\n",
       "      <td>20.000000</td>\n",
       "      <td>8.000000</td>\n",
       "      <td>3.102000e+03</td>\n",
       "      <td>8.02500</td>\n",
       "      <td>23.505000</td>\n",
       "      <td>3.820650e+02</td>\n",
       "    </tr>\n",
       "    <tr>\n",
       "      <th>75%</th>\n",
       "      <td>0.680000</td>\n",
       "      <td>30.000000</td>\n",
       "      <td>12.000000</td>\n",
       "      <td>3.645600e+04</td>\n",
       "      <td>89.47000</td>\n",
       "      <td>57.905000</td>\n",
       "      <td>1.156115e+03</td>\n",
       "    </tr>\n",
       "    <tr>\n",
       "      <th>max</th>\n",
       "      <td>1.000000</td>\n",
       "      <td>73.000000</td>\n",
       "      <td>50.000000</td>\n",
       "      <td>1.179279e+08</td>\n",
       "      <td>382385.67000</td>\n",
       "      <td>99.980000</td>\n",
       "      <td>1.114343e+07</td>\n",
       "    </tr>\n",
       "  </tbody>\n",
       "</table>\n",
       "</div>"
      ],
      "text/plain": [
       "       Artist Reputation       Height        Width        Weight  \\\n",
       "count        5750.000000  6125.000000  5916.000000  5.913000e+03   \n",
       "mean            0.461850    21.766204     9.617647  4.006948e+05   \n",
       "std             0.265781    11.968192     5.417000  2.678081e+06   \n",
       "min             0.000000     3.000000     2.000000  3.000000e+00   \n",
       "25%             0.240000    12.000000     6.000000  5.030000e+02   \n",
       "50%             0.450000    20.000000     8.000000  3.102000e+03   \n",
       "75%             0.680000    30.000000    12.000000  3.645600e+04   \n",
       "max             1.000000    73.000000    50.000000  1.179279e+08   \n",
       "\n",
       "       Price Of Sculpture  Base Shipping Price          Cost  \n",
       "count          6500.00000          6500.000000  6.500000e+03  \n",
       "mean           1192.42009            37.407174  1.713920e+04  \n",
       "std            8819.61675            26.873519  2.406579e+05  \n",
       "min               3.00000            10.000000 -8.801727e+05  \n",
       "25%               5.23000            16.700000  1.884400e+02  \n",
       "50%               8.02500            23.505000  3.820650e+02  \n",
       "75%              89.47000            57.905000  1.156115e+03  \n",
       "max          382385.67000            99.980000  1.114343e+07  "
      ]
     },
     "execution_count": 4,
     "metadata": {},
     "output_type": "execute_result"
    }
   ],
   "source": [
    "df.describe()"
   ]
  },
  {
   "cell_type": "code",
   "execution_count": 5,
   "id": "registered-colombia",
   "metadata": {},
   "outputs": [
    {
     "data": {
      "text/plain": [
       "Customer Id                 0\n",
       "Artist Name                 0\n",
       "Artist Reputation         750\n",
       "Height                    375\n",
       "Width                     584\n",
       "Weight                    587\n",
       "Material                  764\n",
       "Price Of Sculpture          0\n",
       "Base Shipping Price         0\n",
       "International               0\n",
       "Express Shipment            0\n",
       "Installation Included       0\n",
       "Transport                1392\n",
       "Fragile                     0\n",
       "Customer Information        0\n",
       "Remote Location           771\n",
       "Scheduled Date              0\n",
       "Delivery Date               0\n",
       "Customer Location           0\n",
       "Cost                        0\n",
       "dtype: int64"
      ]
     },
     "execution_count": 5,
     "metadata": {},
     "output_type": "execute_result"
    }
   ],
   "source": [
    "df.isnull().sum()"
   ]
  },
  {
   "cell_type": "code",
   "execution_count": 6,
   "id": "failing-tennessee",
   "metadata": {},
   "outputs": [
    {
     "data": {
      "text/plain": [
       "Customer Id               object\n",
       "Artist Name               object\n",
       "Artist Reputation        float64\n",
       "Height                   float64\n",
       "Width                    float64\n",
       "Weight                   float64\n",
       "Material                  object\n",
       "Price Of Sculpture       float64\n",
       "Base Shipping Price      float64\n",
       "International             object\n",
       "Express Shipment          object\n",
       "Installation Included     object\n",
       "Transport                 object\n",
       "Fragile                   object\n",
       "Customer Information      object\n",
       "Remote Location           object\n",
       "Scheduled Date            object\n",
       "Delivery Date             object\n",
       "Customer Location         object\n",
       "Cost                     float64\n",
       "dtype: object"
      ]
     },
     "execution_count": 6,
     "metadata": {},
     "output_type": "execute_result"
    }
   ],
   "source": [
    "df.dtypes"
   ]
  },
  {
   "cell_type": "code",
   "execution_count": 4,
   "id": "incorrect-decline",
   "metadata": {},
   "outputs": [],
   "source": [
    "df['Scheduled Date']= pd.to_datetime(df['Scheduled Date'])"
   ]
  },
  {
   "cell_type": "code",
   "execution_count": 5,
   "id": "frank-pollution",
   "metadata": {},
   "outputs": [],
   "source": [
    "df['Delivery Date']= pd.to_datetime(df['Delivery Date'])"
   ]
  },
  {
   "cell_type": "code",
   "execution_count": 9,
   "id": "extraordinary-enough",
   "metadata": {},
   "outputs": [
    {
     "data": {
      "text/plain": [
       "6449"
      ]
     },
     "execution_count": 9,
     "metadata": {},
     "output_type": "execute_result"
    }
   ],
   "source": [
    " len(pd.unique(df['Artist Name']))"
   ]
  },
  {
   "cell_type": "code",
   "execution_count": 10,
   "id": "adjacent-stewart",
   "metadata": {},
   "outputs": [
    {
     "data": {
      "text/plain": [
       "<matplotlib.collections.PathCollection at 0x1efb912e630>"
      ]
     },
     "execution_count": 10,
     "metadata": {},
     "output_type": "execute_result"
    },
    {
     "data": {
      "image/png": "[encoded data removed]",
      "text/plain": [
       "<Figure size 432x288 with 1 Axes>"
      ]
     },
     "metadata": {
      "needs_background": "light"
     },
     "output_type": "display_data"
    }
   ],
   "source": [
    "plt.scatter(df['Price Of Sculpture'], df['Base Shipping Price'])"
   ]
  },
  {
   "cell_type": "code",
   "execution_count": 11,
   "id": "basic-carbon",
   "metadata": {},
   "outputs": [
    {
     "data": {
      "text/plain": [
       "<matplotlib.collections.PathCollection at 0x1efb922c358>"
      ]
     },
     "execution_count": 11,
     "metadata": {},
     "output_type": "execute_result"
    },
    {
     "data": {
      "image/png": "[encoded data removed]",
      "text/plain": [
       "<Figure size 432x288 with 1 Axes>"
      ]
     },
     "metadata": {
      "needs_background": "light"
     },
     "output_type": "display_data"
    }
   ],
   "source": [
    "plt.scatter(df['Height'], df['Width'])"
   ]
  },
  {
   "cell_type": "code",
   "execution_count": 12,
   "id": "necessary-province",
   "metadata": {},
   "outputs": [
    {
     "data": {
      "text/plain": [
       "<matplotlib.collections.PathCollection at 0x1efb9294fd0>"
      ]
     },
     "execution_count": 12,
     "metadata": {},
     "output_type": "execute_result"
    },
    {
     "data": {
      "image/png": "[encoded data removed]",
      "text/plain": [
       "<Figure size 432x288 with 1 Axes>"
      ]
     },
     "metadata": {
      "needs_background": "light"
     },
     "output_type": "display_data"
    }
   ],
   "source": [
    "plt.scatter(df['Height'], df['Weight'])"
   ]
  },
  {
   "cell_type": "code",
   "execution_count": 13,
   "id": "innocent-oliver",
   "metadata": {},
   "outputs": [
    {
     "data": {
      "text/plain": [
       "<matplotlib.collections.PathCollection at 0x1efb9304cf8>"
      ]
     },
     "execution_count": 13,
     "metadata": {},
     "output_type": "execute_result"
    },
    {
     "data": {
      "image/png": "[encoded data removed]",
      "text/plain": [
       "<Figure size 432x288 with 1 Axes>"
      ]
     },
     "metadata": {
      "needs_background": "light"
     },
     "output_type": "display_data"
    }
   ],
   "source": [
    "plt.scatter(df['Width'], df['Weight'])"
   ]
  },
  {
   "cell_type": "code",
   "execution_count": 14,
   "id": "spiritual-wednesday",
   "metadata": {},
   "outputs": [
    {
     "data": {
      "text/plain": [
       "<AxesSubplot:ylabel='Frequency'>"
      ]
     },
     "execution_count": 14,
     "metadata": {},
     "output_type": "execute_result"
    },
    {
     "data": {
      "image/png": "[encoded data removed]",
      "text/plain": [
       "<Figure size 432x288 with 1 Axes>"
      ]
     },
     "metadata": {
      "needs_background": "light"
     },
     "output_type": "display_data"
    }
   ],
   "source": [
    "df['Width'].apply(np.sqrt).plot.hist(bins=20)"
   ]
  },
  {
   "cell_type": "code",
   "execution_count": 15,
   "id": "combined-location",
   "metadata": {},
   "outputs": [
    {
     "data": {
      "text/plain": [
       "<AxesSubplot:ylabel='Frequency'>"
      ]
     },
     "execution_count": 15,
     "metadata": {},
     "output_type": "execute_result"
    },
    {
     "data": {
      "image/png": "[encoded data removed]",
      "text/plain": [
       "<Figure size 432x288 with 1 Axes>"
      ]
     },
     "metadata": {
      "needs_background": "light"
     },
     "output_type": "display_data"
    }
   ],
   "source": [
    "df['Weight'].plot.hist(bins=10)"
   ]
  },
  {
   "cell_type": "code",
   "execution_count": 16,
   "id": "charming-electronics",
   "metadata": {},
   "outputs": [
    {
     "data": {
      "text/plain": [
       "<AxesSubplot:ylabel='Frequency'>"
      ]
     },
     "execution_count": 16,
     "metadata": {},
     "output_type": "execute_result"
    },
    {
     "data": {
      "image/png": "[encoded data removed]",
      "text/plain": [
       "<Figure size 432x288 with 1 Axes>"
      ]
     },
     "metadata": {
      "needs_background": "light"
     },
     "output_type": "display_data"
    }
   ],
   "source": [
    "df['Height'].apply(np.sqrt).plot.hist(bins=50)"
   ]
  },
  {
   "cell_type": "code",
   "execution_count": 21,
   "id": "responsible-rough",
   "metadata": {},
   "outputs": [
    {
     "data": {
      "text/plain": [
       "<matplotlib.collections.PathCollection at 0x27a62ad7470>"
      ]
     },
     "execution_count": 21,
     "metadata": {},
     "output_type": "execute_result"
    },
    {
     "data": {
      "image/png": "[encoded data removed]",
      "text/plain": [
       "<Figure size 432x288 with 1 Axes>"
      ]
     },
     "metadata": {
      "needs_background": "light"
     },
     "output_type": "display_data"
    }
   ],
   "source": [
    "plt.scatter(df['Base Shipping Price'], df['Width'])"
   ]
  },
  {
   "cell_type": "code",
   "execution_count": 20,
   "id": "athletic-former",
   "metadata": {},
   "outputs": [
    {
     "data": {
      "text/plain": [
       "<matplotlib.collections.PathCollection at 0x27a62a6a048>"
      ]
     },
     "execution_count": 20,
     "metadata": {},
     "output_type": "execute_result"
    },
    {
     "data": {
      "image/png": "[encoded data removed]",
      "text/plain": [
       "<Figure size 432x288 with 1 Axes>"
      ]
     },
     "metadata": {
      "needs_background": "light"
     },
     "output_type": "display_data"
    }
   ],
   "source": [
    "plt.scatter(df['Base Shipping Price'], df['Height'])"
   ]
  },
  {
   "cell_type": "code",
   "execution_count": 18,
   "id": "exotic-representative",
   "metadata": {},
   "outputs": [
    {
     "data": {
      "text/plain": [
       "<matplotlib.collections.PathCollection at 0x1efb9618c18>"
      ]
     },
     "execution_count": 18,
     "metadata": {},
     "output_type": "execute_result"
    },
    {
     "data": {
      "image/png": "[encoded data removed]",
      "text/plain": [
       "<Figure size 432x288 with 1 Axes>"
      ]
     },
     "metadata": {
      "needs_background": "light"
     },
     "output_type": "display_data"
    }
   ],
   "source": [
    "plt.scatter(df['Base Shipping Price'], df['Weight'])"
   ]
  },
  {
   "cell_type": "code",
   "execution_count": 19,
   "id": "unlimited-julian",
   "metadata": {},
   "outputs": [
    {
     "data": {
      "text/plain": [
       "No     4294\n",
       "Yes    2206\n",
       "Name: International, dtype: int64"
      ]
     },
     "execution_count": 19,
     "metadata": {},
     "output_type": "execute_result"
    }
   ],
   "source": [
    "df['International'].value_counts()"
   ]
  },
  {
   "cell_type": "code",
   "execution_count": 20,
   "id": "impossible-mercy",
   "metadata": {},
   "outputs": [
    {
     "data": {
      "image/png": "[encoded data removed]",
      "text/plain": [
       "<Figure size 432x288 with 1 Axes>"
      ]
     },
     "metadata": {
      "needs_background": "light"
     },
     "output_type": "display_data"
    }
   ],
   "source": [
    "fig,ax=plt.subplots()\n",
    "colors={'Yes':'red','No':'green'}\n",
    "ax.scatter(df['Base Shipping Price'],df['Weight'],c=df['International'].apply(lambda x:colors[x]))\n",
    "plt.show()"
   ]
  },
  {
   "cell_type": "code",
   "execution_count": 21,
   "id": "enhanced-parks",
   "metadata": {},
   "outputs": [
    {
     "data": {
      "text/plain": [
       "<matplotlib.collections.PathCollection at 0x1efb96dbd30>"
      ]
     },
     "execution_count": 21,
     "metadata": {},
     "output_type": "execute_result"
    },
    {
     "data": {
      "image/png": "[encoded data removed]",
      "text/plain": [
       "<Figure size 432x288 with 1 Axes>"
      ]
     },
     "metadata": {
      "needs_background": "light"
     },
     "output_type": "display_data"
    }
   ],
   "source": [
    "plt.scatter(df['Price Of Sculpture'], df['Artist Reputation'])"
   ]
  },
  {
   "cell_type": "code",
   "execution_count": 10,
   "id": "incorrect-bubble",
   "metadata": {},
   "outputs": [],
   "source": [
    "x=df[df['Price Of Sculpture']<350000]"
   ]
  },
  {
   "cell_type": "code",
   "execution_count": 26,
   "id": "regulation-dragon",
   "metadata": {},
   "outputs": [
    {
     "data": {
      "text/plain": [
       "(6499, 20)"
      ]
     },
     "execution_count": 26,
     "metadata": {},
     "output_type": "execute_result"
    }
   ],
   "source": [
    "x.shape"
   ]
  },
  {
   "cell_type": "code",
   "execution_count": 27,
   "id": "little-malpractice",
   "metadata": {},
   "outputs": [
    {
     "data": {
      "text/plain": [
       "<matplotlib.collections.PathCollection at 0x1efba795a20>"
      ]
     },
     "execution_count": 27,
     "metadata": {},
     "output_type": "execute_result"
    },
    {
     "data": {
      "image/png": "[encoded data removed]",
      "text/plain": [
       "<Figure size 432x288 with 1 Axes>"
      ]
     },
     "metadata": {
      "needs_background": "light"
     },
     "output_type": "display_data"
    }
   ],
   "source": [
    "plt.scatter(x['Price Of Sculpture'], x['Artist Reputation'])"
   ]
  },
  {
   "cell_type": "code",
   "execution_count": 28,
   "id": "martial-matrix",
   "metadata": {},
   "outputs": [
    {
     "data": {
      "text/html": [
       "<div>\n",
       "<style scoped>\n",
       "    .dataframe tbody tr th:only-of-type {\n",
       "        vertical-align: middle;\n",
       "    }\n",
       "\n",
       "    .dataframe tbody tr th {\n",
       "        vertical-align: top;\n",
       "    }\n",
       "\n",
       "    .dataframe thead th {\n",
       "        text-align: right;\n",
       "    }\n",
       "</style>\n",
       "<table border=\"1\" class=\"dataframe\">\n",
       "  <thead>\n",
       "    <tr style=\"text-align: right;\">\n",
       "      <th></th>\n",
       "      <th>Artist Reputation</th>\n",
       "    </tr>\n",
       "    <tr>\n",
       "      <th>International</th>\n",
       "      <th></th>\n",
       "    </tr>\n",
       "  </thead>\n",
       "  <tbody>\n",
       "    <tr>\n",
       "      <th>No</th>\n",
       "      <td>0.464640</td>\n",
       "    </tr>\n",
       "    <tr>\n",
       "      <th>Yes</th>\n",
       "      <td>0.456371</td>\n",
       "    </tr>\n",
       "  </tbody>\n",
       "</table>\n",
       "</div>"
      ],
      "text/plain": [
       "               Artist Reputation\n",
       "International                   \n",
       "No                      0.464640\n",
       "Yes                     0.456371"
      ]
     },
     "execution_count": 28,
     "metadata": {},
     "output_type": "execute_result"
    }
   ],
   "source": [
    "df.pivot_table(values='Artist Reputation',index='International',aggfunc='mean')"
   ]
  },
  {
   "cell_type": "code",
   "execution_count": 29,
   "id": "realistic-newspaper",
   "metadata": {},
   "outputs": [
    {
     "data": {
      "text/html": [
       "<div>\n",
       "<style scoped>\n",
       "    .dataframe tbody tr th:only-of-type {\n",
       "        vertical-align: middle;\n",
       "    }\n",
       "\n",
       "    .dataframe tbody tr th {\n",
       "        vertical-align: top;\n",
       "    }\n",
       "\n",
       "    .dataframe thead th {\n",
       "        text-align: right;\n",
       "    }\n",
       "</style>\n",
       "<table border=\"1\" class=\"dataframe\">\n",
       "  <thead>\n",
       "    <tr style=\"text-align: right;\">\n",
       "      <th></th>\n",
       "      <th>Artist Reputation</th>\n",
       "    </tr>\n",
       "    <tr>\n",
       "      <th>Customer Information</th>\n",
       "      <th></th>\n",
       "    </tr>\n",
       "  </thead>\n",
       "  <tbody>\n",
       "    <tr>\n",
       "      <th>Wealthy</th>\n",
       "      <td>0.466219</td>\n",
       "    </tr>\n",
       "    <tr>\n",
       "      <th>Working Class</th>\n",
       "      <td>0.460290</td>\n",
       "    </tr>\n",
       "  </tbody>\n",
       "</table>\n",
       "</div>"
      ],
      "text/plain": [
       "                      Artist Reputation\n",
       "Customer Information                   \n",
       "Wealthy                        0.466219\n",
       "Working Class                  0.460290"
      ]
     },
     "execution_count": 29,
     "metadata": {},
     "output_type": "execute_result"
    }
   ],
   "source": [
    "df.pivot_table(values='Artist Reputation',index='Customer Information',aggfunc='mean')"
   ]
  },
  {
   "cell_type": "code",
   "execution_count": 31,
   "id": "elementary-engineer",
   "metadata": {},
   "outputs": [
    {
     "data": {
      "text/plain": [
       "<matplotlib.collections.PathCollection at 0x1efba80fa20>"
      ]
     },
     "execution_count": 31,
     "metadata": {},
     "output_type": "execute_result"
    },
    {
     "data": {
      "image/png": "[encoded data removed]",
      "text/plain": [
       "<Figure size 432x288 with 1 Axes>"
      ]
     },
     "metadata": {
      "needs_background": "light"
     },
     "output_type": "display_data"
    }
   ],
   "source": [
    "plt.scatter(x['Price Of Sculpture'], x['Height'])"
   ]
  },
  {
   "cell_type": "code",
   "execution_count": 11,
   "id": "logical-pleasure",
   "metadata": {},
   "outputs": [
    {
     "data": {
      "text/plain": [
       "375"
      ]
     },
     "execution_count": 11,
     "metadata": {},
     "output_type": "execute_result"
    }
   ],
   "source": [
    "df['Height'].isnull().sum()"
   ]
  },
  {
   "cell_type": "code",
   "execution_count": 12,
   "id": "annual-aerospace",
   "metadata": {},
   "outputs": [
    {
     "data": {
      "text/html": [
       "<div>\n",
       "<style scoped>\n",
       "    .dataframe tbody tr th:only-of-type {\n",
       "        vertical-align: middle;\n",
       "    }\n",
       "\n",
       "    .dataframe tbody tr th {\n",
       "        vertical-align: top;\n",
       "    }\n",
       "\n",
       "    .dataframe thead th {\n",
       "        text-align: right;\n",
       "    }\n",
       "</style>\n",
       "<table border=\"1\" class=\"dataframe\">\n",
       "  <thead>\n",
       "    <tr style=\"text-align: right;\">\n",
       "      <th></th>\n",
       "      <th>Weight</th>\n",
       "    </tr>\n",
       "    <tr>\n",
       "      <th>Material</th>\n",
       "      <th></th>\n",
       "    </tr>\n",
       "  </thead>\n",
       "  <tbody>\n",
       "    <tr>\n",
       "      <th>Aluminium</th>\n",
       "      <td>1.351587e+03</td>\n",
       "    </tr>\n",
       "    <tr>\n",
       "      <th>Brass</th>\n",
       "      <td>2.789967e+04</td>\n",
       "    </tr>\n",
       "    <tr>\n",
       "      <th>Bronze</th>\n",
       "      <td>1.697773e+04</td>\n",
       "    </tr>\n",
       "    <tr>\n",
       "      <th>Clay</th>\n",
       "      <td>3.427542e+03</td>\n",
       "    </tr>\n",
       "    <tr>\n",
       "      <th>Marble</th>\n",
       "      <td>7.584780e+05</td>\n",
       "    </tr>\n",
       "    <tr>\n",
       "      <th>Stone</th>\n",
       "      <td>2.151031e+06</td>\n",
       "    </tr>\n",
       "    <tr>\n",
       "      <th>Wood</th>\n",
       "      <td>3.968911e+02</td>\n",
       "    </tr>\n",
       "  </tbody>\n",
       "</table>\n",
       "</div>"
      ],
      "text/plain": [
       "                 Weight\n",
       "Material               \n",
       "Aluminium  1.351587e+03\n",
       "Brass      2.789967e+04\n",
       "Bronze     1.697773e+04\n",
       "Clay       3.427542e+03\n",
       "Marble     7.584780e+05\n",
       "Stone      2.151031e+06\n",
       "Wood       3.968911e+02"
      ]
     },
     "execution_count": 12,
     "metadata": {},
     "output_type": "execute_result"
    }
   ],
   "source": [
    "df.pivot_table(values='Weight',index='Material',aggfunc='mean')"
   ]
  },
  {
   "cell_type": "code",
   "execution_count": 14,
   "id": "sapphire-trace",
   "metadata": {},
   "outputs": [
    {
     "data": {
      "text/plain": [
       "<AxesSubplot:ylabel='Frequency'>"
      ]
     },
     "execution_count": 14,
     "metadata": {},
     "output_type": "execute_result"
    },
    {
     "data": {
      "image/png": "[encoded data removed]",
      "text/plain": [
       "<Figure size 432x288 with 1 Axes>"
      ]
     },
     "metadata": {
      "needs_background": "light"
     },
     "output_type": "display_data"
    }
   ],
   "source": [
    "df['Weight'].apply(np.sqrt).plot.hist()"
   ]
  },
  {
   "cell_type": "code",
   "execution_count": 14,
   "id": "civic-vehicle",
   "metadata": {},
   "outputs": [],
   "source": [
    "df['Weight_n']=df['Weight'].apply(np.sqrt)"
   ]
  },
  {
   "cell_type": "code",
   "execution_count": 22,
   "id": "expired-stockholm",
   "metadata": {},
   "outputs": [
    {
     "data": {
      "text/html": [
       "<div>\n",
       "<style scoped>\n",
       "    .dataframe tbody tr th:only-of-type {\n",
       "        vertical-align: middle;\n",
       "    }\n",
       "\n",
       "    .dataframe tbody tr th {\n",
       "        vertical-align: top;\n",
       "    }\n",
       "\n",
       "    .dataframe thead th {\n",
       "        text-align: right;\n",
       "    }\n",
       "</style>\n",
       "<table border=\"1\" class=\"dataframe\">\n",
       "  <thead>\n",
       "    <tr style=\"text-align: right;\">\n",
       "      <th></th>\n",
       "      <th>Weight_n</th>\n",
       "    </tr>\n",
       "    <tr>\n",
       "      <th>Material</th>\n",
       "      <th></th>\n",
       "    </tr>\n",
       "  </thead>\n",
       "  <tbody>\n",
       "    <tr>\n",
       "      <th>Aluminium</th>\n",
       "      <td>25.768197</td>\n",
       "    </tr>\n",
       "    <tr>\n",
       "      <th>Brass</th>\n",
       "      <td>89.810912</td>\n",
       "    </tr>\n",
       "    <tr>\n",
       "      <th>Bronze</th>\n",
       "      <td>77.346486</td>\n",
       "    </tr>\n",
       "    <tr>\n",
       "      <th>Clay</th>\n",
       "      <td>37.067506</td>\n",
       "    </tr>\n",
       "    <tr>\n",
       "      <th>Marble</th>\n",
       "      <td>339.698396</td>\n",
       "    </tr>\n",
       "    <tr>\n",
       "      <th>Stone</th>\n",
       "      <td>470.193577</td>\n",
       "    </tr>\n",
       "    <tr>\n",
       "      <th>Wood</th>\n",
       "      <td>15.842980</td>\n",
       "    </tr>\n",
       "  </tbody>\n",
       "</table>\n",
       "</div>"
      ],
      "text/plain": [
       "             Weight_n\n",
       "Material             \n",
       "Aluminium   25.768197\n",
       "Brass       89.810912\n",
       "Bronze      77.346486\n",
       "Clay        37.067506\n",
       "Marble     339.698396\n",
       "Stone      470.193577\n",
       "Wood        15.842980"
      ]
     },
     "execution_count": 22,
     "metadata": {},
     "output_type": "execute_result"
    }
   ],
   "source": [
    "df.pivot_table(values='Weight_n',index='Material',aggfunc='median')"
   ]
  },
  {
   "cell_type": "code",
   "execution_count": 23,
   "id": "ordinary-makeup",
   "metadata": {},
   "outputs": [
    {
     "data": {
      "text/html": [
       "<div>\n",
       "<style scoped>\n",
       "    .dataframe tbody tr th:only-of-type {\n",
       "        vertical-align: middle;\n",
       "    }\n",
       "\n",
       "    .dataframe tbody tr th {\n",
       "        vertical-align: top;\n",
       "    }\n",
       "\n",
       "    .dataframe thead th {\n",
       "        text-align: right;\n",
       "    }\n",
       "</style>\n",
       "<table border=\"1\" class=\"dataframe\">\n",
       "  <thead>\n",
       "    <tr style=\"text-align: right;\">\n",
       "      <th></th>\n",
       "      <th>Width</th>\n",
       "    </tr>\n",
       "    <tr>\n",
       "      <th>Material</th>\n",
       "      <th></th>\n",
       "    </tr>\n",
       "  </thead>\n",
       "  <tbody>\n",
       "    <tr>\n",
       "      <th>Aluminium</th>\n",
       "      <td>8.0</td>\n",
       "    </tr>\n",
       "    <tr>\n",
       "      <th>Brass</th>\n",
       "      <td>8.0</td>\n",
       "    </tr>\n",
       "    <tr>\n",
       "      <th>Bronze</th>\n",
       "      <td>8.0</td>\n",
       "    </tr>\n",
       "    <tr>\n",
       "      <th>Clay</th>\n",
       "      <td>8.0</td>\n",
       "    </tr>\n",
       "    <tr>\n",
       "      <th>Marble</th>\n",
       "      <td>8.0</td>\n",
       "    </tr>\n",
       "    <tr>\n",
       "      <th>Stone</th>\n",
       "      <td>8.0</td>\n",
       "    </tr>\n",
       "    <tr>\n",
       "      <th>Wood</th>\n",
       "      <td>8.0</td>\n",
       "    </tr>\n",
       "  </tbody>\n",
       "</table>\n",
       "</div>"
      ],
      "text/plain": [
       "           Width\n",
       "Material        \n",
       "Aluminium    8.0\n",
       "Brass        8.0\n",
       "Bronze       8.0\n",
       "Clay         8.0\n",
       "Marble       8.0\n",
       "Stone        8.0\n",
       "Wood         8.0"
      ]
     },
     "execution_count": 23,
     "metadata": {},
     "output_type": "execute_result"
    }
   ],
   "source": [
    "df.pivot_table(values='Width',index='Material',aggfunc='median')"
   ]
  },
  {
   "cell_type": "code",
   "execution_count": 24,
   "id": "neural-carroll",
   "metadata": {},
   "outputs": [
    {
     "data": {
      "text/html": [
       "<div>\n",
       "<style scoped>\n",
       "    .dataframe tbody tr th:only-of-type {\n",
       "        vertical-align: middle;\n",
       "    }\n",
       "\n",
       "    .dataframe tbody tr th {\n",
       "        vertical-align: top;\n",
       "    }\n",
       "\n",
       "    .dataframe thead th {\n",
       "        text-align: right;\n",
       "    }\n",
       "</style>\n",
       "<table border=\"1\" class=\"dataframe\">\n",
       "  <thead>\n",
       "    <tr style=\"text-align: right;\">\n",
       "      <th></th>\n",
       "      <th>Height</th>\n",
       "    </tr>\n",
       "    <tr>\n",
       "      <th>Material</th>\n",
       "      <th></th>\n",
       "    </tr>\n",
       "  </thead>\n",
       "  <tbody>\n",
       "    <tr>\n",
       "      <th>Aluminium</th>\n",
       "      <td>21.0</td>\n",
       "    </tr>\n",
       "    <tr>\n",
       "      <th>Brass</th>\n",
       "      <td>20.0</td>\n",
       "    </tr>\n",
       "    <tr>\n",
       "      <th>Bronze</th>\n",
       "      <td>21.0</td>\n",
       "    </tr>\n",
       "    <tr>\n",
       "      <th>Clay</th>\n",
       "      <td>19.0</td>\n",
       "    </tr>\n",
       "    <tr>\n",
       "      <th>Marble</th>\n",
       "      <td>20.0</td>\n",
       "    </tr>\n",
       "    <tr>\n",
       "      <th>Stone</th>\n",
       "      <td>20.0</td>\n",
       "    </tr>\n",
       "    <tr>\n",
       "      <th>Wood</th>\n",
       "      <td>21.0</td>\n",
       "    </tr>\n",
       "  </tbody>\n",
       "</table>\n",
       "</div>"
      ],
      "text/plain": [
       "           Height\n",
       "Material         \n",
       "Aluminium    21.0\n",
       "Brass        20.0\n",
       "Bronze       21.0\n",
       "Clay         19.0\n",
       "Marble       20.0\n",
       "Stone        20.0\n",
       "Wood         21.0"
      ]
     },
     "execution_count": 24,
     "metadata": {},
     "output_type": "execute_result"
    }
   ],
   "source": [
    "df.pivot_table(values='Height',index='Material',aggfunc='median')"
   ]
  },
  {
   "cell_type": "code",
   "execution_count": 10,
   "id": "willing-chain",
   "metadata": {},
   "outputs": [
    {
     "data": {
      "text/plain": [
       "Transport  International\n",
       "Airways    No                977\n",
       "           Yes               840\n",
       "Roadways   No               1954\n",
       "           Yes               110\n",
       "Waterways  Yes               809\n",
       "           No                418\n",
       "Name: International, dtype: int64"
      ]
     },
     "execution_count": 10,
     "metadata": {},
     "output_type": "execute_result"
    }
   ],
   "source": [
    "df.groupby('Transport').International.value_counts()"
   ]
  },
  {
   "cell_type": "code",
   "execution_count": 15,
   "id": "considered-canal",
   "metadata": {},
   "outputs": [],
   "source": [
    "k={'Aluminium':25.7,'Brass':89.8,'Bronze':77.3,'Clay':37,'Marble':339.6,'Stone':470,'Wood':15.8}\n",
    "def fill(x):\n",
    "    if (pd.isnull(x['Weight_n'])==True) and (pd.isnull(x['Material'])==False):\n",
    "     return k[x['Material']]\n",
    "    else :\n",
    "     return x['Weight_n']"
   ]
  },
  {
   "cell_type": "code",
   "execution_count": 16,
   "id": "metallic-graph",
   "metadata": {},
   "outputs": [],
   "source": [
    "df['Weight_n']=df.apply(lambda x: fill(x),axis=1)"
   ]
  },
  {
   "cell_type": "code",
   "execution_count": 46,
   "id": "complete-seeker",
   "metadata": {},
   "outputs": [
    {
     "data": {
      "text/plain": [
       "Customer Id                0\n",
       "Artist Name                0\n",
       "Artist Reputation          0\n",
       "Height                     0\n",
       "Width                      0\n",
       "Weight                   587\n",
       "Material                   0\n",
       "Price Of Sculpture         0\n",
       "Base Shipping Price        0\n",
       "International              0\n",
       "Express Shipment           0\n",
       "Installation Included      0\n",
       "Transport                  0\n",
       "Fragile                    0\n",
       "Customer_Information       0\n",
       "Remote_Location            0\n",
       "Scheduled_Date             0\n",
       "Delivery_Date              0\n",
       "Customer Location          0\n",
       "Cost                       0\n",
       "Weight_n                   0\n",
       "sch_date                   0\n",
       "delv_mnth                  0\n",
       "delv_date                  0\n",
       "sch_dmnth                  0\n",
       "dtype: int64"
      ]
     },
     "execution_count": 46,
     "metadata": {},
     "output_type": "execute_result"
    }
   ],
   "source": [
    "df.isnull().sum()"
   ]
  },
  {
   "cell_type": "code",
   "execution_count": 20,
   "id": "compound-georgia",
   "metadata": {},
   "outputs": [],
   "source": [
    "df['Weight_n'].fillna(value=df['Weight_n'].median(),inplace=True)"
   ]
  },
  {
   "cell_type": "code",
   "execution_count": 22,
   "id": "acute-gravity",
   "metadata": {},
   "outputs": [],
   "source": [
    "df=df.rename(columns={'Remote Location':'Remote_Location','Customer Information':'Customer_Information','Scheduled Date':'Scheduled_Date','Delivery Date':'Delivery_Date'})"
   ]
  },
  {
   "cell_type": "code",
   "execution_count": 23,
   "id": "documented-convertible",
   "metadata": {},
   "outputs": [
    {
     "data": {
      "text/plain": [
       "Transport  Remote_Location\n",
       "Airways    No                 1301\n",
       "           Yes                 330\n",
       "Roadways   No                 1481\n",
       "           Yes                 366\n",
       "Waterways  No                  889\n",
       "           Yes                 215\n",
       "Name: Remote_Location, dtype: int64"
      ]
     },
     "execution_count": 23,
     "metadata": {},
     "output_type": "execute_result"
    }
   ],
   "source": [
    "df.groupby('Transport').Remote_Location.value_counts()"
   ]
  },
  {
   "cell_type": "code",
   "execution_count": 25,
   "id": "developed-myrtle",
   "metadata": {},
   "outputs": [],
   "source": [
    "df['sch_date']=df['Scheduled_Date'].dt.date"
   ]
  },
  {
   "cell_type": "code",
   "execution_count": 28,
   "id": "answering-hierarchy",
   "metadata": {},
   "outputs": [],
   "source": [
    "df['sch_dmnth']=df['Scheduled_Date'].dt.month"
   ]
  },
  {
   "cell_type": "code",
   "execution_count": 27,
   "id": "presidential-million",
   "metadata": {},
   "outputs": [],
   "source": [
    "df['delv_date']=df['Delivery_Date'].dt.date"
   ]
  },
  {
   "cell_type": "code",
   "execution_count": 26,
   "id": "veterinary-southeast",
   "metadata": {},
   "outputs": [],
   "source": [
    "df['delv_mnth']=df['Delivery_Date'].dt.month"
   ]
  },
  {
   "cell_type": "code",
   "execution_count": 29,
   "id": "retained-height",
   "metadata": {},
   "outputs": [],
   "source": [
    "df['Artist Reputation'].fillna(value=df['Artist Reputation'].mean(),inplace=True)"
   ]
  },
  {
   "cell_type": "code",
   "execution_count": 30,
   "id": "activated-increase",
   "metadata": {},
   "outputs": [],
   "source": [
    "df['Height'].fillna(value=df['Height'].mean(),inplace=True)"
   ]
  },
  {
   "cell_type": "code",
   "execution_count": 31,
   "id": "heard-translation",
   "metadata": {},
   "outputs": [],
   "source": [
    "df['Width'].fillna(value=df['Width'].mean(),inplace=True)"
   ]
  },
  {
   "cell_type": "code",
   "execution_count": 34,
   "id": "israeli-mining",
   "metadata": {},
   "outputs": [],
   "source": [
    "def fill(x):\n",
    "    if (pd.isnull(x['Transport'])==True and (x['International']=='No')):\n",
    "     return 'Roadways'\n",
    "    else :\n",
    "     return x['Transport']"
   ]
  },
  {
   "cell_type": "code",
   "execution_count": 35,
   "id": "developed-option",
   "metadata": {},
   "outputs": [],
   "source": [
    "df['Transport']=df.apply(lambda x: fill(x),axis=1)"
   ]
  },
  {
   "cell_type": "code",
   "execution_count": 37,
   "id": "exceptional-peninsula",
   "metadata": {},
   "outputs": [],
   "source": [
    "df['Transport'].fillna(value=df['Transport'].mode()[0],inplace=True)"
   ]
  },
  {
   "cell_type": "code",
   "execution_count": 39,
   "id": "explicit-excellence",
   "metadata": {},
   "outputs": [
    {
     "data": {
      "text/html": [
       "<div>\n",
       "<style scoped>\n",
       "    .dataframe tbody tr th:only-of-type {\n",
       "        vertical-align: middle;\n",
       "    }\n",
       "\n",
       "    .dataframe tbody tr th {\n",
       "        vertical-align: top;\n",
       "    }\n",
       "\n",
       "    .dataframe thead th {\n",
       "        text-align: right;\n",
       "    }\n",
       "</style>\n",
       "<table border=\"1\" class=\"dataframe\">\n",
       "  <thead>\n",
       "    <tr style=\"text-align: right;\">\n",
       "      <th></th>\n",
       "      <th>Price Of Sculpture</th>\n",
       "    </tr>\n",
       "    <tr>\n",
       "      <th>Material</th>\n",
       "      <th></th>\n",
       "    </tr>\n",
       "  </thead>\n",
       "  <tbody>\n",
       "    <tr>\n",
       "      <th>Aluminium</th>\n",
       "      <td>6.815550</td>\n",
       "    </tr>\n",
       "    <tr>\n",
       "      <th>Brass</th>\n",
       "      <td>89.818064</td>\n",
       "    </tr>\n",
       "    <tr>\n",
       "      <th>Bronze</th>\n",
       "      <td>50.134507</td>\n",
       "    </tr>\n",
       "    <tr>\n",
       "      <th>Clay</th>\n",
       "      <td>11.949718</td>\n",
       "    </tr>\n",
       "    <tr>\n",
       "      <th>Marble</th>\n",
       "      <td>2457.232156</td>\n",
       "    </tr>\n",
       "    <tr>\n",
       "      <th>Stone</th>\n",
       "      <td>6349.181658</td>\n",
       "    </tr>\n",
       "    <tr>\n",
       "      <th>Wood</th>\n",
       "      <td>5.037598</td>\n",
       "    </tr>\n",
       "  </tbody>\n",
       "</table>\n",
       "</div>"
      ],
      "text/plain": [
       "           Price Of Sculpture\n",
       "Material                     \n",
       "Aluminium            6.815550\n",
       "Brass               89.818064\n",
       "Bronze              50.134507\n",
       "Clay                11.949718\n",
       "Marble            2457.232156\n",
       "Stone             6349.181658\n",
       "Wood                 5.037598"
      ]
     },
     "execution_count": 39,
     "metadata": {},
     "output_type": "execute_result"
    }
   ],
   "source": [
    "df.pivot_table(values='Price Of Sculpture',index='Material',aggfunc='mean')"
   ]
  },
  {
   "cell_type": "code",
   "execution_count": 40,
   "id": "hawaiian-alexander",
   "metadata": {},
   "outputs": [],
   "source": [
    "def fill(x):\n",
    "    if (pd.isnull(x['Material'])==True ):\n",
    "        if(x['Price Of Sculpture']<=5):\n",
    "            return 'Wood'\n",
    "        if(x['Price Of Sculpture']>5 and x['Price Of Sculpture']<=8):\n",
    "            return 'Aluminium'\n",
    "        if(x['Price Of Sculpture']>8 and x['Price Of Sculpture']<=15):\n",
    "            return 'Clay'\n",
    "        if(x['Price Of Sculpture']>15 and x['Price Of Sculpture']<=65):\n",
    "            return 'Bronze'\n",
    "        if(x['Price Of Sculpture']>65 and x['Price Of Sculpture']<=150):\n",
    "            return 'Brass'\n",
    "        if(x['Price Of Sculpture']>150 and x['Price Of Sculpture']<=3000):\n",
    "            return 'Marble'\n",
    "        if(x['Price Of Sculpture']>3000 and x['Price Of Sculpture']<=8000):\n",
    "            return 'Stone'\n",
    "    else:\n",
    "        return x['Material']\n",
    "        \n",
    "        "
   ]
  },
  {
   "cell_type": "code",
   "execution_count": 41,
   "id": "lesser-locking",
   "metadata": {},
   "outputs": [],
   "source": [
    "df['Material']=df.apply(lambda x: fill(x),axis=1)"
   ]
  },
  {
   "cell_type": "code",
   "execution_count": 43,
   "id": "geographic-designation",
   "metadata": {},
   "outputs": [],
   "source": [
    "df['Material'].fillna(value=df['Material'].mode()[0],inplace=True)"
   ]
  },
  {
   "cell_type": "code",
   "execution_count": 45,
   "id": "framed-remains",
   "metadata": {},
   "outputs": [],
   "source": [
    "df['Remote_Location'].fillna(value=df['Remote_Location'].mode()[0],inplace=True)"
   ]
  },
  {
   "cell_type": "code",
   "execution_count": 47,
   "id": "alien-swaziland",
   "metadata": {},
   "outputs": [],
   "source": [
    "df['state'] = df['Customer Location'].map(lambda x:x.split()[-2])"
   ]
  },
  {
   "cell_type": "code",
   "execution_count": 48,
   "id": "spatial-basics",
   "metadata": {},
   "outputs": [
    {
     "data": {
      "text/plain": [
       "Customer Id                0\n",
       "Artist Name                0\n",
       "Artist Reputation          0\n",
       "Height                     0\n",
       "Width                      0\n",
       "Weight                   587\n",
       "Material                   0\n",
       "Price Of Sculpture         0\n",
       "Base Shipping Price        0\n",
       "International              0\n",
       "Express Shipment           0\n",
       "Installation Included      0\n",
       "Transport                  0\n",
       "Fragile                    0\n",
       "Customer_Information       0\n",
       "Remote_Location            0\n",
       "Scheduled_Date             0\n",
       "Delivery_Date              0\n",
       "Customer Location          0\n",
       "Cost                       0\n",
       "Weight_n                   0\n",
       "sch_date                   0\n",
       "delv_mnth                  0\n",
       "delv_date                  0\n",
       "sch_dmnth                  0\n",
       "state                      0\n",
       "dtype: int64"
      ]
     },
     "execution_count": 48,
     "metadata": {},
     "output_type": "execute_result"
    }
   ],
   "source": [
    "df.isnull().sum()"
   ]
  },
  {
   "cell_type": "code",
   "execution_count": 49,
   "id": "sharing-quilt",
   "metadata": {},
   "outputs": [
    {
     "data": {
      "text/plain": [
       "AP    250\n",
       "AA    245\n",
       "AE    222\n",
       "AZ    137\n",
       "IL    135\n",
       "GA    131\n",
       "SC    130\n",
       "MI    130\n",
       "ID    130\n",
       "AR    130\n",
       "MD    127\n",
       "VA    126\n",
       "KS    126\n",
       "NH    125\n",
       "NC    124\n",
       "WI    121\n",
       "DE    120\n",
       "MO    120\n",
       "TN    120\n",
       "NM    118\n",
       "WV    118\n",
       "MA    118\n",
       "MN    117\n",
       "TX    117\n",
       "CT    117\n",
       "CA    116\n",
       "WA    116\n",
       "MT    114\n",
       "AL    113\n",
       "FL    113\n",
       "RI    111\n",
       "IA    111\n",
       "UT    110\n",
       "OR    110\n",
       "ND    110\n",
       "NV    108\n",
       "MS    108\n",
       "LA    106\n",
       "AK    106\n",
       "WY    106\n",
       "IN    106\n",
       "SD    106\n",
       "NJ    103\n",
       "PA    102\n",
       "DC    102\n",
       "OK    100\n",
       "CO     98\n",
       "KY     98\n",
       "NY     98\n",
       "ME     97\n",
       "HI     96\n",
       "VT     96\n",
       "NE     95\n",
       "OH     91\n",
       "Name: state, dtype: int64"
      ]
     },
     "execution_count": 49,
     "metadata": {},
     "output_type": "execute_result"
    }
   ],
   "source": [
    "df['state'].value_counts()\n"
   ]
  },
  {
   "cell_type": "code",
   "execution_count": 51,
   "id": "worthy-bronze",
   "metadata": {},
   "outputs": [],
   "source": [
    "df['schedul_Diff'] = (df['Delivery_Date'] - df['Scheduled_Date']).map(lambda x:str(x).split()[0])"
   ]
  },
  {
   "cell_type": "code",
   "execution_count": 53,
   "id": "coupled-steering",
   "metadata": {},
   "outputs": [],
   "source": [
    "df['schedul_Diff'] = pd.to_numeric(df['schedul_Diff'])"
   ]
  },
  {
   "cell_type": "code",
   "execution_count": 54,
   "id": "controlling-cooper",
   "metadata": {},
   "outputs": [],
   "source": [
    "df=df.drop(['Customer Id','Artist Name','Weight','sch_date','sch_dmnth','Delivery_Date','Scheduled_Date','delv_mnth','delv_date','state'],axis=1)"
   ]
  },
  {
   "cell_type": "code",
   "execution_count": 58,
   "id": "lonely-asset",
   "metadata": {},
   "outputs": [
    {
     "data": {
      "text/html": [
       "<div>\n",
       "<style scoped>\n",
       "    .dataframe tbody tr th:only-of-type {\n",
       "        vertical-align: middle;\n",
       "    }\n",
       "\n",
       "    .dataframe tbody tr th {\n",
       "        vertical-align: top;\n",
       "    }\n",
       "\n",
       "    .dataframe thead th {\n",
       "        text-align: right;\n",
       "    }\n",
       "</style>\n",
       "<table border=\"1\" class=\"dataframe\">\n",
       "  <thead>\n",
       "    <tr style=\"text-align: right;\">\n",
       "      <th></th>\n",
       "      <th>Artist Reputation</th>\n",
       "      <th>Height</th>\n",
       "      <th>Width</th>\n",
       "      <th>Material</th>\n",
       "      <th>Price Of Sculpture</th>\n",
       "      <th>Base Shipping Price</th>\n",
       "      <th>International</th>\n",
       "      <th>Express Shipment</th>\n",
       "      <th>Installation Included</th>\n",
       "      <th>Transport</th>\n",
       "      <th>Fragile</th>\n",
       "      <th>Customer_Information</th>\n",
       "      <th>Remote_Location</th>\n",
       "      <th>Cost</th>\n",
       "      <th>Weight_n</th>\n",
       "      <th>schedul_Diff</th>\n",
       "    </tr>\n",
       "  </thead>\n",
       "  <tbody>\n",
       "    <tr>\n",
       "      <th>0</th>\n",
       "      <td>0.26</td>\n",
       "      <td>17.0</td>\n",
       "      <td>6.000000</td>\n",
       "      <td>Brass</td>\n",
       "      <td>13.91</td>\n",
       "      <td>16.27</td>\n",
       "      <td>Yes</td>\n",
       "      <td>Yes</td>\n",
       "      <td>No</td>\n",
       "      <td>Airways</td>\n",
       "      <td>No</td>\n",
       "      <td>Working Class</td>\n",
       "      <td>No</td>\n",
       "      <td>-283.29</td>\n",
       "      <td>64.249514</td>\n",
       "      <td>-4</td>\n",
       "    </tr>\n",
       "    <tr>\n",
       "      <th>1</th>\n",
       "      <td>0.28</td>\n",
       "      <td>3.0</td>\n",
       "      <td>3.000000</td>\n",
       "      <td>Brass</td>\n",
       "      <td>6.83</td>\n",
       "      <td>15.00</td>\n",
       "      <td>No</td>\n",
       "      <td>No</td>\n",
       "      <td>No</td>\n",
       "      <td>Roadways</td>\n",
       "      <td>No</td>\n",
       "      <td>Working Class</td>\n",
       "      <td>No</td>\n",
       "      <td>-159.96</td>\n",
       "      <td>7.810250</td>\n",
       "      <td>-1</td>\n",
       "    </tr>\n",
       "    <tr>\n",
       "      <th>2</th>\n",
       "      <td>0.07</td>\n",
       "      <td>8.0</td>\n",
       "      <td>5.000000</td>\n",
       "      <td>Clay</td>\n",
       "      <td>4.96</td>\n",
       "      <td>21.18</td>\n",
       "      <td>No</td>\n",
       "      <td>No</td>\n",
       "      <td>No</td>\n",
       "      <td>Roadways</td>\n",
       "      <td>Yes</td>\n",
       "      <td>Working Class</td>\n",
       "      <td>Yes</td>\n",
       "      <td>-154.29</td>\n",
       "      <td>15.394804</td>\n",
       "      <td>-1</td>\n",
       "    </tr>\n",
       "    <tr>\n",
       "      <th>3</th>\n",
       "      <td>0.12</td>\n",
       "      <td>9.0</td>\n",
       "      <td>9.617647</td>\n",
       "      <td>Aluminium</td>\n",
       "      <td>5.81</td>\n",
       "      <td>16.31</td>\n",
       "      <td>No</td>\n",
       "      <td>No</td>\n",
       "      <td>No</td>\n",
       "      <td>Roadways</td>\n",
       "      <td>No</td>\n",
       "      <td>Wealthy</td>\n",
       "      <td>Yes</td>\n",
       "      <td>-161.16</td>\n",
       "      <td>25.700000</td>\n",
       "      <td>-4</td>\n",
       "    </tr>\n",
       "    <tr>\n",
       "      <th>4</th>\n",
       "      <td>0.15</td>\n",
       "      <td>17.0</td>\n",
       "      <td>6.000000</td>\n",
       "      <td>Aluminium</td>\n",
       "      <td>3.18</td>\n",
       "      <td>11.94</td>\n",
       "      <td>Yes</td>\n",
       "      <td>Yes</td>\n",
       "      <td>Yes</td>\n",
       "      <td>Airways</td>\n",
       "      <td>No</td>\n",
       "      <td>Working Class</td>\n",
       "      <td>No</td>\n",
       "      <td>-159.23</td>\n",
       "      <td>18.000000</td>\n",
       "      <td>-4</td>\n",
       "    </tr>\n",
       "  </tbody>\n",
       "</table>\n",
       "</div>"
      ],
      "text/plain": [
       "   Artist Reputation  Height     Width   Material  Price Of Sculpture  \\\n",
       "0               0.26    17.0  6.000000      Brass               13.91   \n",
       "1               0.28     3.0  3.000000      Brass                6.83   \n",
       "2               0.07     8.0  5.000000       Clay                4.96   \n",
       "3               0.12     9.0  9.617647  Aluminium                5.81   \n",
       "4               0.15    17.0  6.000000  Aluminium                3.18   \n",
       "\n",
       "   Base Shipping Price International Express Shipment Installation Included  \\\n",
       "0                16.27           Yes              Yes                    No   \n",
       "1                15.00            No               No                    No   \n",
       "2                21.18            No               No                    No   \n",
       "3                16.31            No               No                    No   \n",
       "4                11.94           Yes              Yes                   Yes   \n",
       "\n",
       "  Transport Fragile Customer_Information Remote_Location    Cost   Weight_n  \\\n",
       "0   Airways      No        Working Class              No -283.29  64.249514   \n",
       "1  Roadways      No        Working Class              No -159.96   7.810250   \n",
       "2  Roadways     Yes        Working Class             Yes -154.29  15.394804   \n",
       "3  Roadways      No              Wealthy             Yes -161.16  25.700000   \n",
       "4   Airways      No        Working Class              No -159.23  18.000000   \n",
       "\n",
       "   schedul_Diff  \n",
       "0            -4  \n",
       "1            -1  \n",
       "2            -1  \n",
       "3            -4  \n",
       "4            -4  "
      ]
     },
     "execution_count": 58,
     "metadata": {},
     "output_type": "execute_result"
    }
   ],
   "source": [
    "df.head()"
   ]
  },
  {
   "cell_type": "code",
   "execution_count": 57,
   "id": "considerable-delivery",
   "metadata": {},
   "outputs": [],
   "source": [
    "df=df.drop(['Customer Location'],axis=1)"
   ]
  },
  {
   "cell_type": "code",
   "execution_count": 59,
   "id": "sophisticated-astrology",
   "metadata": {},
   "outputs": [],
   "source": [
    "df=pd.get_dummies(df,drop_first=True)"
   ]
  },
  {
   "cell_type": "code",
   "execution_count": 60,
   "id": "abstract-austin",
   "metadata": {},
   "outputs": [
    {
     "data": {
      "text/html": [
       "<div>\n",
       "<style scoped>\n",
       "    .dataframe tbody tr th:only-of-type {\n",
       "        vertical-align: middle;\n",
       "    }\n",
       "\n",
       "    .dataframe tbody tr th {\n",
       "        vertical-align: top;\n",
       "    }\n",
       "\n",
       "    .dataframe thead th {\n",
       "        text-align: right;\n",
       "    }\n",
       "</style>\n",
       "<table border=\"1\" class=\"dataframe\">\n",
       "  <thead>\n",
       "    <tr style=\"text-align: right;\">\n",
       "      <th></th>\n",
       "      <th>Artist Reputation</th>\n",
       "      <th>Height</th>\n",
       "      <th>Width</th>\n",
       "      <th>Price Of Sculpture</th>\n",
       "      <th>Base Shipping Price</th>\n",
       "      <th>Cost</th>\n",
       "      <th>Weight_n</th>\n",
       "      <th>schedul_Diff</th>\n",
       "      <th>Material_Brass</th>\n",
       "      <th>Material_Bronze</th>\n",
       "      <th>...</th>\n",
       "      <th>Material_Stone</th>\n",
       "      <th>Material_Wood</th>\n",
       "      <th>International_Yes</th>\n",
       "      <th>Express Shipment_Yes</th>\n",
       "      <th>Installation Included_Yes</th>\n",
       "      <th>Transport_Roadways</th>\n",
       "      <th>Transport_Waterways</th>\n",
       "      <th>Fragile_Yes</th>\n",
       "      <th>Customer_Information_Working Class</th>\n",
       "      <th>Remote_Location_Yes</th>\n",
       "    </tr>\n",
       "  </thead>\n",
       "  <tbody>\n",
       "    <tr>\n",
       "      <th>0</th>\n",
       "      <td>0.26</td>\n",
       "      <td>17.0</td>\n",
       "      <td>6.000000</td>\n",
       "      <td>13.91</td>\n",
       "      <td>16.27</td>\n",
       "      <td>-283.29</td>\n",
       "      <td>64.249514</td>\n",
       "      <td>-4</td>\n",
       "      <td>1</td>\n",
       "      <td>0</td>\n",
       "      <td>...</td>\n",
       "      <td>0</td>\n",
       "      <td>0</td>\n",
       "      <td>1</td>\n",
       "      <td>1</td>\n",
       "      <td>0</td>\n",
       "      <td>0</td>\n",
       "      <td>0</td>\n",
       "      <td>0</td>\n",
       "      <td>1</td>\n",
       "      <td>0</td>\n",
       "    </tr>\n",
       "    <tr>\n",
       "      <th>1</th>\n",
       "      <td>0.28</td>\n",
       "      <td>3.0</td>\n",
       "      <td>3.000000</td>\n",
       "      <td>6.83</td>\n",
       "      <td>15.00</td>\n",
       "      <td>-159.96</td>\n",
       "      <td>7.810250</td>\n",
       "      <td>-1</td>\n",
       "      <td>1</td>\n",
       "      <td>0</td>\n",
       "      <td>...</td>\n",
       "      <td>0</td>\n",
       "      <td>0</td>\n",
       "      <td>0</td>\n",
       "      <td>0</td>\n",
       "      <td>0</td>\n",
       "      <td>1</td>\n",
       "      <td>0</td>\n",
       "      <td>0</td>\n",
       "      <td>1</td>\n",
       "      <td>0</td>\n",
       "    </tr>\n",
       "    <tr>\n",
       "      <th>2</th>\n",
       "      <td>0.07</td>\n",
       "      <td>8.0</td>\n",
       "      <td>5.000000</td>\n",
       "      <td>4.96</td>\n",
       "      <td>21.18</td>\n",
       "      <td>-154.29</td>\n",
       "      <td>15.394804</td>\n",
       "      <td>-1</td>\n",
       "      <td>0</td>\n",
       "      <td>0</td>\n",
       "      <td>...</td>\n",
       "      <td>0</td>\n",
       "      <td>0</td>\n",
       "      <td>0</td>\n",
       "      <td>0</td>\n",
       "      <td>0</td>\n",
       "      <td>1</td>\n",
       "      <td>0</td>\n",
       "      <td>1</td>\n",
       "      <td>1</td>\n",
       "      <td>1</td>\n",
       "    </tr>\n",
       "    <tr>\n",
       "      <th>3</th>\n",
       "      <td>0.12</td>\n",
       "      <td>9.0</td>\n",
       "      <td>9.617647</td>\n",
       "      <td>5.81</td>\n",
       "      <td>16.31</td>\n",
       "      <td>-161.16</td>\n",
       "      <td>25.700000</td>\n",
       "      <td>-4</td>\n",
       "      <td>0</td>\n",
       "      <td>0</td>\n",
       "      <td>...</td>\n",
       "      <td>0</td>\n",
       "      <td>0</td>\n",
       "      <td>0</td>\n",
       "      <td>0</td>\n",
       "      <td>0</td>\n",
       "      <td>1</td>\n",
       "      <td>0</td>\n",
       "      <td>0</td>\n",
       "      <td>0</td>\n",
       "      <td>1</td>\n",
       "    </tr>\n",
       "    <tr>\n",
       "      <th>4</th>\n",
       "      <td>0.15</td>\n",
       "      <td>17.0</td>\n",
       "      <td>6.000000</td>\n",
       "      <td>3.18</td>\n",
       "      <td>11.94</td>\n",
       "      <td>-159.23</td>\n",
       "      <td>18.000000</td>\n",
       "      <td>-4</td>\n",
       "      <td>0</td>\n",
       "      <td>0</td>\n",
       "      <td>...</td>\n",
       "      <td>0</td>\n",
       "      <td>0</td>\n",
       "      <td>1</td>\n",
       "      <td>1</td>\n",
       "      <td>1</td>\n",
       "      <td>0</td>\n",
       "      <td>0</td>\n",
       "      <td>0</td>\n",
       "      <td>1</td>\n",
       "      <td>0</td>\n",
       "    </tr>\n",
       "  </tbody>\n",
       "</table>\n",
       "<p>5 rows × 22 columns</p>\n",
       "</div>"
      ],
      "text/plain": [
       "   Artist Reputation  Height     Width  Price Of Sculpture  \\\n",
       "0               0.26    17.0  6.000000               13.91   \n",
       "1               0.28     3.0  3.000000                6.83   \n",
       "2               0.07     8.0  5.000000                4.96   \n",
       "3               0.12     9.0  9.617647                5.81   \n",
       "4               0.15    17.0  6.000000                3.18   \n",
       "\n",
       "   Base Shipping Price    Cost   Weight_n  schedul_Diff  Material_Brass  \\\n",
       "0                16.27 -283.29  64.249514            -4               1   \n",
       "1                15.00 -159.96   7.810250            -1               1   \n",
       "2                21.18 -154.29  15.394804            -1               0   \n",
       "3                16.31 -161.16  25.700000            -4               0   \n",
       "4                11.94 -159.23  18.000000            -4               0   \n",
       "\n",
       "   Material_Bronze  ...  Material_Stone  Material_Wood  International_Yes  \\\n",
       "0                0  ...               0              0                  1   \n",
       "1                0  ...               0              0                  0   \n",
       "2                0  ...               0              0                  0   \n",
       "3                0  ...               0              0                  0   \n",
       "4                0  ...               0              0                  1   \n",
       "\n",
       "   Express Shipment_Yes  Installation Included_Yes  Transport_Roadways  \\\n",
       "0                     1                          0                   0   \n",
       "1                     0                          0                   1   \n",
       "2                     0                          0                   1   \n",
       "3                     0                          0                   1   \n",
       "4                     1                          1                   0   \n",
       "\n",
       "   Transport_Waterways  Fragile_Yes  Customer_Information_Working Class  \\\n",
       "0                    0            0                                   1   \n",
       "1                    0            0                                   1   \n",
       "2                    0            1                                   1   \n",
       "3                    0            0                                   0   \n",
       "4                    0            0                                   1   \n",
       "\n",
       "   Remote_Location_Yes  \n",
       "0                    0  \n",
       "1                    0  \n",
       "2                    1  \n",
       "3                    1  \n",
       "4                    0  \n",
       "\n",
       "[5 rows x 22 columns]"
      ]
     },
     "execution_count": 60,
     "metadata": {},
     "output_type": "execute_result"
    }
   ],
   "source": [
    "df.head()"
   ]
  },
  {
   "cell_type": "code",
   "execution_count": 61,
   "id": "historical-craps",
   "metadata": {},
   "outputs": [
    {
     "data": {
      "text/plain": [
       "((6500, 21), (6500,))"
      ]
     },
     "execution_count": 61,
     "metadata": {},
     "output_type": "execute_result"
    }
   ],
   "source": [
    "x = df.drop('Cost',axis=1)\n",
    "y = df['Cost']\n",
    "x.shape, y.shape"
   ]
  },
  {
   "cell_type": "code",
   "execution_count": 62,
   "id": "generic-dutch",
   "metadata": {},
   "outputs": [],
   "source": [
    "from sklearn.model_selection import train_test_split\n",
    "train_x, valid_x, train_y, valid_y= train_test_split(x, y, test_size = 0.20,random_state = 42)"
   ]
  },
  {
   "cell_type": "code",
   "execution_count": 63,
   "id": "french-audio",
   "metadata": {},
   "outputs": [
    {
     "data": {
      "text/plain": [
       "ExtraTreesRegressor()"
      ]
     },
     "execution_count": 63,
     "metadata": {},
     "output_type": "execute_result"
    }
   ],
   "source": [
    "from sklearn.ensemble import ExtraTreesRegressor \n",
    "model=ExtraTreesRegressor()\n",
    "model.fit(x,y)"
   ]
  },
  {
   "cell_type": "code",
   "execution_count": 64,
   "id": "bronze-semester",
   "metadata": {},
   "outputs": [],
   "source": [
    "from sklearn.ensemble import RandomForestRegressor\n",
    "rfr=RandomForestRegressor()"
   ]
  },
  {
   "cell_type": "code",
   "execution_count": 65,
   "id": "recovered-carnival",
   "metadata": {},
   "outputs": [],
   "source": [
    "from sklearn.model_selection import RandomizedSearchCV"
   ]
  },
  {
   "cell_type": "code",
   "execution_count": 66,
   "id": "wrong-joseph",
   "metadata": {},
   "outputs": [],
   "source": [
    "# Number of trees in random forest\n",
    "n_estimators = [int(x) for x in np.linspace(start = 100, stop = 1200, num = 12)]\n",
    "# Number of features to consider at every split\n",
    "max_features = ['auto', 'sqrt']\n",
    "# Maximum number of levels in tree\n",
    "max_depth = [int(x) for x in np.linspace(5, 30, num = 6)]\n",
    "# max_depth.append(None)\n",
    "# Minimum number of samples required to split a node\n",
    "min_samples_split = [2, 5, 10, 15, 100]\n",
    "# Minimum number of samples required at each leaf node\n",
    "min_samples_leaf = [1, 2, 5, 10]"
   ]
  },
  {
   "cell_type": "code",
   "execution_count": 67,
   "id": "interpreted-burns",
   "metadata": {},
   "outputs": [
    {
     "name": "stdout",
     "output_type": "stream",
     "text": [
      "{'n_estimators': [100, 200, 300, 400, 500, 600, 700, 800, 900, 1000, 1100, 1200], 'max_features': ['auto', 'sqrt'], 'max_depth': [5, 10, 15, 20, 25, 30], 'min_samples_split': [2, 5, 10, 15, 100], 'min_samples_leaf': [1, 2, 5, 10]}\n"
     ]
    }
   ],
   "source": [
    "random_grid = {'n_estimators': n_estimators,\n",
    "               'max_features': max_features,\n",
    "               'max_depth': max_depth,\n",
    "               'min_samples_split': min_samples_split,\n",
    "               'min_samples_leaf': min_samples_leaf}\n",
    "\n",
    "print(random_grid)"
   ]
  },
  {
   "cell_type": "code",
   "execution_count": 68,
   "id": "single-coffee",
   "metadata": {},
   "outputs": [],
   "source": [
    "rf_random = RandomizedSearchCV(estimator = rfr, param_distributions = random_grid, scoring='neg_mean_squared_error', n_iter = 10, cv = 5, verbose=2, random_state=42, n_jobs = 1)"
   ]
  },
  {
   "cell_type": "code",
   "execution_count": 69,
   "id": "focused-charleston",
   "metadata": {},
   "outputs": [
    {
     "name": "stdout",
     "output_type": "stream",
     "text": [
      "Fitting 5 folds for each of 10 candidates, totalling 50 fits\n",
      "[CV] END max_depth=10, max_features=sqrt, min_samples_leaf=5, min_samples_split=5, n_estimators=900; total time=   3.4s\n",
      "[CV] END max_depth=10, max_features=sqrt, min_samples_leaf=5, min_samples_split=5, n_estimators=900; total time=   3.3s\n",
      "[CV] END max_depth=10, max_features=sqrt, min_samples_leaf=5, min_samples_split=5, n_estimators=900; total time=   3.4s\n",
      "[CV] END max_depth=10, max_features=sqrt, min_samples_leaf=5, min_samples_split=5, n_estimators=900; total time=   3.3s\n",
      "[CV] END max_depth=10, max_features=sqrt, min_samples_leaf=5, min_samples_split=5, n_estimators=900; total time=   3.2s\n",
      "[CV] END max_depth=15, max_features=sqrt, min_samples_leaf=2, min_samples_split=10, n_estimators=1100; total time=   5.2s\n",
      "[CV] END max_depth=15, max_features=sqrt, min_samples_leaf=2, min_samples_split=10, n_estimators=1100; total time=   5.7s\n",
      "[CV] END max_depth=15, max_features=sqrt, min_samples_leaf=2, min_samples_split=10, n_estimators=1100; total time=   5.7s\n",
      "[CV] END max_depth=15, max_features=sqrt, min_samples_leaf=2, min_samples_split=10, n_estimators=1100; total time=   5.2s\n",
      "[CV] END max_depth=15, max_features=sqrt, min_samples_leaf=2, min_samples_split=10, n_estimators=1100; total time=   5.2s\n",
      "[CV] END max_depth=15, max_features=auto, min_samples_leaf=5, min_samples_split=100, n_estimators=300; total time=   4.5s\n",
      "[CV] END max_depth=15, max_features=auto, min_samples_leaf=5, min_samples_split=100, n_estimators=300; total time=   4.5s\n",
      "[CV] END max_depth=15, max_features=auto, min_samples_leaf=5, min_samples_split=100, n_estimators=300; total time=   5.4s\n",
      "[CV] END max_depth=15, max_features=auto, min_samples_leaf=5, min_samples_split=100, n_estimators=300; total time=   5.9s\n",
      "[CV] END max_depth=15, max_features=auto, min_samples_leaf=5, min_samples_split=100, n_estimators=300; total time=   5.9s\n",
      "[CV] END max_depth=15, max_features=auto, min_samples_leaf=5, min_samples_split=5, n_estimators=400; total time=   8.1s\n",
      "[CV] END max_depth=15, max_features=auto, min_samples_leaf=5, min_samples_split=5, n_estimators=400; total time=   8.7s\n",
      "[CV] END max_depth=15, max_features=auto, min_samples_leaf=5, min_samples_split=5, n_estimators=400; total time=   9.0s\n",
      "[CV] END max_depth=15, max_features=auto, min_samples_leaf=5, min_samples_split=5, n_estimators=400; total time=   9.0s\n",
      "[CV] END max_depth=15, max_features=auto, min_samples_leaf=5, min_samples_split=5, n_estimators=400; total time=   8.6s\n",
      "[CV] END max_depth=20, max_features=auto, min_samples_leaf=10, min_samples_split=5, n_estimators=700; total time=  15.3s\n",
      "[CV] END max_depth=20, max_features=auto, min_samples_leaf=10, min_samples_split=5, n_estimators=700; total time=  15.3s\n",
      "[CV] END max_depth=20, max_features=auto, min_samples_leaf=10, min_samples_split=5, n_estimators=700; total time=  13.6s\n",
      "[CV] END max_depth=20, max_features=auto, min_samples_leaf=10, min_samples_split=5, n_estimators=700; total time=  13.8s\n",
      "[CV] END max_depth=20, max_features=auto, min_samples_leaf=10, min_samples_split=5, n_estimators=700; total time=  13.7s\n",
      "[CV] END max_depth=25, max_features=sqrt, min_samples_leaf=1, min_samples_split=2, n_estimators=1000; total time=   8.6s\n",
      "[CV] END max_depth=25, max_features=sqrt, min_samples_leaf=1, min_samples_split=2, n_estimators=1000; total time=   9.8s\n",
      "[CV] END max_depth=25, max_features=sqrt, min_samples_leaf=1, min_samples_split=2, n_estimators=1000; total time=   8.6s\n",
      "[CV] END max_depth=25, max_features=sqrt, min_samples_leaf=1, min_samples_split=2, n_estimators=1000; total time=   8.5s\n",
      "[CV] END max_depth=25, max_features=sqrt, min_samples_leaf=1, min_samples_split=2, n_estimators=1000; total time=   9.3s\n",
      "[CV] END max_depth=5, max_features=sqrt, min_samples_leaf=10, min_samples_split=15, n_estimators=1100; total time=   3.8s\n",
      "[CV] END max_depth=5, max_features=sqrt, min_samples_leaf=10, min_samples_split=15, n_estimators=1100; total time=   2.8s\n",
      "[CV] END max_depth=5, max_features=sqrt, min_samples_leaf=10, min_samples_split=15, n_estimators=1100; total time=   3.6s\n",
      "[CV] END max_depth=5, max_features=sqrt, min_samples_leaf=10, min_samples_split=15, n_estimators=1100; total time=   2.6s\n",
      "[CV] END max_depth=5, max_features=sqrt, min_samples_leaf=10, min_samples_split=15, n_estimators=1100; total time=   2.6s\n",
      "[CV] END max_depth=15, max_features=sqrt, min_samples_leaf=1, min_samples_split=15, n_estimators=300; total time=   1.9s\n",
      "[CV] END max_depth=15, max_features=sqrt, min_samples_leaf=1, min_samples_split=15, n_estimators=300; total time=   1.3s\n",
      "[CV] END max_depth=15, max_features=sqrt, min_samples_leaf=1, min_samples_split=15, n_estimators=300; total time=   1.3s\n",
      "[CV] END max_depth=15, max_features=sqrt, min_samples_leaf=1, min_samples_split=15, n_estimators=300; total time=   2.5s\n",
      "[CV] END max_depth=15, max_features=sqrt, min_samples_leaf=1, min_samples_split=15, n_estimators=300; total time=   1.4s\n",
      "[CV] END max_depth=5, max_features=sqrt, min_samples_leaf=2, min_samples_split=10, n_estimators=700; total time=   1.6s\n",
      "[CV] END max_depth=5, max_features=sqrt, min_samples_leaf=2, min_samples_split=10, n_estimators=700; total time=   2.8s\n",
      "[CV] END max_depth=5, max_features=sqrt, min_samples_leaf=2, min_samples_split=10, n_estimators=700; total time=   1.7s\n",
      "[CV] END max_depth=5, max_features=sqrt, min_samples_leaf=2, min_samples_split=10, n_estimators=700; total time=   1.7s\n",
      "[CV] END max_depth=5, max_features=sqrt, min_samples_leaf=2, min_samples_split=10, n_estimators=700; total time=   2.9s\n",
      "[CV] END max_depth=20, max_features=auto, min_samples_leaf=1, min_samples_split=15, n_estimators=700; total time=  19.7s\n",
      "[CV] END max_depth=20, max_features=auto, min_samples_leaf=1, min_samples_split=15, n_estimators=700; total time=  21.3s\n",
      "[CV] END max_depth=20, max_features=auto, min_samples_leaf=1, min_samples_split=15, n_estimators=700; total time=  20.1s\n",
      "[CV] END max_depth=20, max_features=auto, min_samples_leaf=1, min_samples_split=15, n_estimators=700; total time=  19.9s\n",
      "[CV] END max_depth=20, max_features=auto, min_samples_leaf=1, min_samples_split=15, n_estimators=700; total time=  20.0s\n"
     ]
    },
    {
     "data": {
      "text/plain": [
       "RandomizedSearchCV(cv=5, estimator=RandomForestRegressor(), n_jobs=1,\n",
       "                   param_distributions={'max_depth': [5, 10, 15, 20, 25, 30],\n",
       "                                        'max_features': ['auto', 'sqrt'],\n",
       "                                        'min_samples_leaf': [1, 2, 5, 10],\n",
       "                                        'min_samples_split': [2, 5, 10, 15,\n",
       "                                                              100],\n",
       "                                        'n_estimators': [100, 200, 300, 400,\n",
       "                                                         500, 600, 700, 800,\n",
       "                                                         900, 1000, 1100,\n",
       "                                                         1200]},\n",
       "                   random_state=42, scoring='neg_mean_squared_error',\n",
       "                   verbose=2)"
      ]
     },
     "execution_count": 69,
     "metadata": {},
     "output_type": "execute_result"
    }
   ],
   "source": [
    "rf_random.fit(train_x,train_y)"
   ]
  },
  {
   "cell_type": "code",
   "execution_count": 70,
   "id": "compact-morris",
   "metadata": {},
   "outputs": [
    {
     "data": {
      "text/plain": [
       "{'n_estimators': 400,\n",
       " 'min_samples_split': 5,\n",
       " 'min_samples_leaf': 5,\n",
       " 'max_features': 'auto',\n",
       " 'max_depth': 15}"
      ]
     },
     "execution_count": 70,
     "metadata": {},
     "output_type": "execute_result"
    }
   ],
   "source": [
    "rf_random.best_params_"
   ]
  },
  {
   "cell_type": "code",
   "execution_count": 71,
   "id": "auburn-enclosure",
   "metadata": {},
   "outputs": [
    {
     "data": {
      "text/plain": [
       "-48328652480.91774"
      ]
     },
     "execution_count": 71,
     "metadata": {},
     "output_type": "execute_result"
    }
   ],
   "source": [
    "rf_random.best_score_"
   ]
  },
  {
   "cell_type": "code",
   "execution_count": 75,
   "id": "endless-watershed",
   "metadata": {},
   "outputs": [],
   "source": [
    "predictions=rf_random.predict(valid_x)"
   ]
  },
  {
   "cell_type": "code",
   "execution_count": 77,
   "id": "assigned-graphics",
   "metadata": {},
   "outputs": [
    {
     "data": {
      "text/plain": [
       "Artist Reputation                     float64\n",
       "Height                                float64\n",
       "Width                                 float64\n",
       "Price Of Sculpture                    float64\n",
       "Base Shipping Price                   float64\n",
       "Cost                                  float64\n",
       "Weight_n                              float64\n",
       "schedul_Diff                            int64\n",
       "Material_Brass                          uint8\n",
       "Material_Bronze                         uint8\n",
       "Material_Clay                           uint8\n",
       "Material_Marble                         uint8\n",
       "Material_Stone                          uint8\n",
       "Material_Wood                           uint8\n",
       "International_Yes                       uint8\n",
       "Express Shipment_Yes                    uint8\n",
       "Installation Included_Yes               uint8\n",
       "Transport_Roadways                      uint8\n",
       "Transport_Waterways                     uint8\n",
       "Fragile_Yes                             uint8\n",
       "Customer_Information_Working Class      uint8\n",
       "Remote_Location_Yes                     uint8\n",
       "dtype: object"
      ]
     },
     "execution_count": 77,
     "metadata": {},
     "output_type": "execute_result"
    }
   ],
   "source": [
    "df.dtypes"
   ]
  },
  {
   "cell_type": "code",
   "execution_count": 73,
   "id": "color-antarctica",
   "metadata": {},
   "outputs": [],
   "source": [
    "from sklearn import metrics"
   ]
  },
  {
   "cell_type": "code",
   "execution_count": 78,
   "id": "warming-pathology",
   "metadata": {},
   "outputs": [],
   "source": [
    "df.dropna(inplace=True)"
   ]
  },
  {
   "cell_type": "code",
   "execution_count": null,
   "id": "numerical-egypt",
   "metadata": {},
   "outputs": [],
   "source": []
  },
  {
   "cell_type": "code",
   "execution_count": null,
   "id": "lovely-recipient",
   "metadata": {},
   "outputs": [],
   "source": []
  },
  {
   "cell_type": "code",
   "execution_count": 91,
   "id": "cathedral-technical",
   "metadata": {},
   "outputs": [
    {
     "name": "stdout",
     "output_type": "stream",
     "text": [
      "99.4953079979068\n"
     ]
    }
   ],
   "source": [
    "print(max(0,100-np.sqrt(metrics.mean_squared_error(np.log(abs(valid_y)),np.log(abs(predictions))))))"
   ]
  },
  {
   "cell_type": "code",
   "execution_count": null,
   "id": "parliamentary-christopher",
   "metadata": {},
   "outputs": [],
   "source": [
    "#test data"
   ]
  },
  {
   "cell_type": "code",
   "execution_count": 92,
   "id": "indonesian-treasurer",
   "metadata": {},
   "outputs": [
    {
     "data": {
      "text/plain": [
       "(3500, 19)"
      ]
     },
     "execution_count": 92,
     "metadata": {},
     "output_type": "execute_result"
    }
   ],
   "source": [
    "df_1=pd.read_csv('test.csv')\n",
    "df_1.shape "
   ]
  },
  {
   "cell_type": "code",
   "execution_count": 93,
   "id": "sufficient-stationery",
   "metadata": {},
   "outputs": [],
   "source": [
    "df_1['Scheduled Date']= pd.to_datetime(df_1['Scheduled Date'])"
   ]
  },
  {
   "cell_type": "code",
   "execution_count": 94,
   "id": "australian-polymer",
   "metadata": {},
   "outputs": [],
   "source": [
    "df_1['Delivery Date']= pd.to_datetime(df_1['Delivery Date'])"
   ]
  },
  {
   "cell_type": "code",
   "execution_count": 95,
   "id": "durable-retrieval",
   "metadata": {},
   "outputs": [],
   "source": [
    "df_1['Weight_n']=df_1['Weight'].apply(np.sqrt)"
   ]
  },
  {
   "cell_type": "code",
   "execution_count": 96,
   "id": "operational-worse",
   "metadata": {},
   "outputs": [],
   "source": [
    "df_1['Weight_n'].fillna(value=df_1['Weight_n'].median(),inplace=True)"
   ]
  },
  {
   "cell_type": "code",
   "execution_count": 97,
   "id": "enclosed-borough",
   "metadata": {},
   "outputs": [],
   "source": [
    "df_1=df_1.rename(columns={'Remote Location':'Remote_Location','Customer Information':'Customer_Information','Scheduled Date':'Scheduled_Date','Delivery Date':'Delivery_Date'})"
   ]
  },
  {
   "cell_type": "code",
   "execution_count": 98,
   "id": "hindu-seeker",
   "metadata": {},
   "outputs": [],
   "source": [
    "df_1['Artist Reputation'].fillna(value=df_1['Artist Reputation'].mean(),inplace=True)"
   ]
  },
  {
   "cell_type": "code",
   "execution_count": 99,
   "id": "signed-millennium",
   "metadata": {},
   "outputs": [],
   "source": [
    "df_1['Height'].fillna(value=df_1['Height'].mean(),inplace=True)"
   ]
  },
  {
   "cell_type": "code",
   "execution_count": 100,
   "id": "iraqi-location",
   "metadata": {},
   "outputs": [],
   "source": [
    "df_1['Width'].fillna(value=df_1['Width'].mean(),inplace=True)"
   ]
  },
  {
   "cell_type": "code",
   "execution_count": 101,
   "id": "headed-words",
   "metadata": {},
   "outputs": [],
   "source": [
    "def fill(x):\n",
    "    if (pd.isnull(x['Material'])==True ):\n",
    "        if(x['Price Of Sculpture']<=5):\n",
    "            return 'Wood'\n",
    "        if(x['Price Of Sculpture']>5 and x['Price Of Sculpture']<=8):\n",
    "            return 'Aluminium'\n",
    "        if(x['Price Of Sculpture']>8 and x['Price Of Sculpture']<=15):\n",
    "            return 'Clay'\n",
    "        if(x['Price Of Sculpture']>15 and x['Price Of Sculpture']<=65):\n",
    "            return 'Bronze'\n",
    "        if(x['Price Of Sculpture']>65 and x['Price Of Sculpture']<=150):\n",
    "            return 'Brass'\n",
    "        if(x['Price Of Sculpture']>150 and x['Price Of Sculpture']<=3000):\n",
    "            return 'Marble'\n",
    "        if(x['Price Of Sculpture']>3000 and x['Price Of Sculpture']<=8000):\n",
    "            return 'Stone'\n",
    "    else:\n",
    "        return x['Material']"
   ]
  },
  {
   "cell_type": "code",
   "execution_count": 102,
   "id": "honey-alcohol",
   "metadata": {},
   "outputs": [],
   "source": [
    "df_1['Material']=df_1.apply(lambda x: fill(x),axis=1)"
   ]
  },
  {
   "cell_type": "code",
   "execution_count": 103,
   "id": "streaming-newsletter",
   "metadata": {},
   "outputs": [],
   "source": [
    "df_1['Remote_Location'].fillna(value=df_1['Remote_Location'].mode()[0],inplace=True)"
   ]
  },
  {
   "cell_type": "code",
   "execution_count": 104,
   "id": "electronic-converter",
   "metadata": {},
   "outputs": [],
   "source": [
    "df_1['schedul_Diff'] = (df_1['Delivery_Date'] - df_1['Scheduled_Date']).map(lambda x:str(x).split()[0])"
   ]
  },
  {
   "cell_type": "code",
   "execution_count": 105,
   "id": "reliable-vacuum",
   "metadata": {},
   "outputs": [],
   "source": [
    "df_1['schedul_Diff'] = pd.to_numeric(df_1['schedul_Diff'])"
   ]
  },
  {
   "cell_type": "code",
   "execution_count": 106,
   "id": "bronze-czech",
   "metadata": {},
   "outputs": [],
   "source": [
    "df_1=df_1.drop(['Customer Id','Artist Name','Weight','Delivery_Date','Scheduled_Date','Customer Location'],axis=1)"
   ]
  },
  {
   "cell_type": "code",
   "execution_count": 107,
   "id": "finished-reason",
   "metadata": {},
   "outputs": [],
   "source": [
    "df_1=pd.get_dummies(df_1,drop_first=True)"
   ]
  },
  {
   "cell_type": "code",
   "execution_count": 109,
   "id": "chronic-knight",
   "metadata": {},
   "outputs": [],
   "source": [
    "pred=rf_random.predict(df_1)"
   ]
  },
  {
   "cell_type": "code",
   "execution_count": 110,
   "id": "optional-federal",
   "metadata": {},
   "outputs": [],
   "source": [
    "pred=pd.DataFrame(pred)"
   ]
  },
  {
   "cell_type": "code",
   "execution_count": 117,
   "id": "explicit-superintendent",
   "metadata": {},
   "outputs": [],
   "source": [
    "submit2= pd.DataFrame()"
   ]
  },
  {
   "cell_type": "code",
   "execution_count": 113,
   "id": "listed-technology",
   "metadata": {},
   "outputs": [],
   "source": [
    "df_test=pd.read_csv('test.csv')"
   ]
  },
  {
   "cell_type": "code",
   "execution_count": 114,
   "id": "meaning-sunglasses",
   "metadata": {},
   "outputs": [],
   "source": [
    "id= df_test['Customer Id']"
   ]
  },
  {
   "cell_type": "code",
   "execution_count": 115,
   "id": "dynamic-graph",
   "metadata": {},
   "outputs": [],
   "source": [
    "id=pd.DataFrame(id)"
   ]
  },
  {
   "cell_type": "code",
   "execution_count": 140,
   "id": "about-guidance",
   "metadata": {},
   "outputs": [],
   "source": [
    "submit2['Customer Id']=id['Customer Id']"
   ]
  },
  {
   "cell_type": "code",
   "execution_count": 141,
   "id": "greek-summer",
   "metadata": {},
   "outputs": [],
   "source": [
    "submit2['Cost']=abs(pred[0])"
   ]
  },
  {
   "cell_type": "code",
   "execution_count": 142,
   "id": "false-copper",
   "metadata": {},
   "outputs": [],
   "source": [
    "submit2.to_csv(\"C:\\\\Users\\\\PRACHI\\\\Desktop\\\\Submission2.csv\")"
   ]
  },
  {
   "cell_type": "code",
   "execution_count": 135,
   "id": "awful-chemistry",
   "metadata": {},
   "outputs": [
    {
     "data": {
      "text/plain": [
       "(3500, 2)"
      ]
     },
     "execution_count": 135,
     "metadata": {},
     "output_type": "execute_result"
    }
   ],
   "source": [
    "submit1.shape"
   ]
  },
  {
   "cell_type": "code",
   "execution_count": 136,
   "id": "legitimate-oriental",
   "metadata": {},
   "outputs": [
    {
     "data": {
      "text/plain": [
       "(3500, 21)"
      ]
     },
     "execution_count": 136,
     "metadata": {},
     "output_type": "execute_result"
    }
   ],
   "source": [
    "df_1.shape"
   ]
  },
  {
   "cell_type": "code",
   "execution_count": null,
   "id": "consistent-hotel",
   "metadata": {},
   "outputs": [],
   "source": []
  },
  {
   "cell_type": "code",
   "execution_count": null,
   "id": "qualified-module",
   "metadata": {},
   "outputs": [],
   "source": []
  },
  {
   "cell_type": "code",
   "execution_count": null,
   "id": "closed-wrestling",
   "metadata": {},
   "outputs": [],
   "source": []
  },
  {
   "cell_type": "code",
   "execution_count": null,
   "id": "intimate-prompt",
   "metadata": {},
   "outputs": [],
   "source": []
  },
  {
   "cell_type": "code",
   "execution_count": null,
   "id": "architectural-civilian",
   "metadata": {},
   "outputs": [],
   "source": []
  },
  {
   "cell_type": "code",
   "execution_count": null,
   "id": "genetic-honolulu",
   "metadata": {},
   "outputs": [],
   "source": []
  },
  {
   "cell_type": "code",
   "execution_count": null,
   "id": "arctic-sentence",
   "metadata": {},
   "outputs": [],
   "source": []
  },
  {
   "cell_type": "code",
   "execution_count": null,
   "id": "stretch-favorite",
   "metadata": {},
   "outputs": [],
   "source": []
  }
 ],
 "metadata": {
  "kernelspec": {
   "display_name": "Python 3",
   "language": "python",
   "name": "python3"
  },
  "language_info": {
   "codemirror_mode": {
    "name": "ipython",
    "version": 3
   },
   "file_extension": ".py",
   "mimetype": "text/x-python",
   "name": "python",
   "nbconvert_exporter": "python",
   "pygments_lexer": "ipython3",
   "version": "3.7.0"
  }
 },
 "nbformat": 4,
 "nbformat_minor": 5
}
